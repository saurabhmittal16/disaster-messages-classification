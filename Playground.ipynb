{
 "metadata": {
  "language_info": {
   "codemirror_mode": {
    "name": "ipython",
    "version": 3
   },
   "file_extension": ".py",
   "mimetype": "text/x-python",
   "name": "python",
   "nbconvert_exporter": "python",
   "pygments_lexer": "ipython3",
   "version": "3.8.5-final"
  },
  "orig_nbformat": 2,
  "kernelspec": {
   "name": "python3",
   "display_name": "Python 3"
  }
 },
 "nbformat": 4,
 "nbformat_minor": 2,
 "cells": [
  {
   "cell_type": "code",
   "execution_count": 2,
   "metadata": {},
   "outputs": [],
   "source": [
    "import pandas as pd"
   ]
  },
  {
   "cell_type": "code",
   "execution_count": 3,
   "metadata": {},
   "outputs": [
    {
     "output_type": "stream",
     "name": "stdout",
     "text": [
      "(21042, 12)\n(2628, 12)\n(2572, 12)\n"
     ]
    }
   ],
   "source": [
    "train = pd.read_csv(\"./preprocessed/training.csv\")\n",
    "test = pd.read_csv(\"./preprocessed/test.csv\")\n",
    "validation = pd.read_csv(\"./preprocessed/validation.csv\")\n",
    "\n",
    "print(train.shape)\n",
    "print(test.shape)\n",
    "print(validation.shape)"
   ]
  },
  {
   "cell_type": "code",
   "execution_count": 25,
   "metadata": {},
   "outputs": [
    {
     "output_type": "execute_result",
     "data": {
      "text/plain": [
       "    id                                            message  request  food  \\\n",
       "5   16  Please, we need tents and water. We are in Sil...        1     0   \n",
       "7   20  There's nothing to eat and water, we starving ...        1     1   \n",
       "9   22  I am in Thomassin number 32, in the area named...        1     0   \n",
       "10  24  Let's do it together, need food in Delma 75, i...        1     1   \n",
       "12  26  A Comitee in Delmas 19, Rue ( street ) Janvier...        1     1   \n",
       "\n",
       "    shelter  water  medical_help  medical_products  clothing  \\\n",
       "5         1      1             0                 0         0   \n",
       "7         0      1             1                 1         0   \n",
       "9         0      1             0                 0         0   \n",
       "10        0      0             0                 0         0   \n",
       "12        1      1             0                 1         1   \n",
       "\n",
       "    search_and_rescue                                       message_stem  \\\n",
       "5                   0  pleas we need tent and water we are in silo th...   \n",
       "7                   0  there s noth to eat and water we starv and thi...   \n",
       "9                   0  i am in thomassin number in the area name pyro...   \n",
       "10                  0  let s do it togeth need food in delma in didin...   \n",
       "12                  0  a comite in delma rue street janvier impass ch...   \n",
       "\n",
       "                                        message_lemma  \n",
       "5   please we need tent and water we be in silo th...  \n",
       "7   there s nothing to eat and water we starve and...  \n",
       "9   i be in thomassin number in the area name pyro...  \n",
       "10  let s do it together need food in delma in did...  \n",
       "12  a comitee in delmas rue street janvier impasse...  "
      ],
      "text/html": "<div>\n<style scoped>\n    .dataframe tbody tr th:only-of-type {\n        vertical-align: middle;\n    }\n\n    .dataframe tbody tr th {\n        vertical-align: top;\n    }\n\n    .dataframe thead th {\n        text-align: right;\n    }\n</style>\n<table border=\"1\" class=\"dataframe\">\n  <thead>\n    <tr style=\"text-align: right;\">\n      <th></th>\n      <th>id</th>\n      <th>message</th>\n      <th>request</th>\n      <th>food</th>\n      <th>shelter</th>\n      <th>water</th>\n      <th>medical_help</th>\n      <th>medical_products</th>\n      <th>clothing</th>\n      <th>search_and_rescue</th>\n      <th>message_stem</th>\n      <th>message_lemma</th>\n    </tr>\n  </thead>\n  <tbody>\n    <tr>\n      <th>5</th>\n      <td>16</td>\n      <td>Please, we need tents and water. We are in Sil...</td>\n      <td>1</td>\n      <td>0</td>\n      <td>1</td>\n      <td>1</td>\n      <td>0</td>\n      <td>0</td>\n      <td>0</td>\n      <td>0</td>\n      <td>pleas we need tent and water we are in silo th...</td>\n      <td>please we need tent and water we be in silo th...</td>\n    </tr>\n    <tr>\n      <th>7</th>\n      <td>20</td>\n      <td>There's nothing to eat and water, we starving ...</td>\n      <td>1</td>\n      <td>1</td>\n      <td>0</td>\n      <td>1</td>\n      <td>1</td>\n      <td>1</td>\n      <td>0</td>\n      <td>0</td>\n      <td>there s noth to eat and water we starv and thi...</td>\n      <td>there s nothing to eat and water we starve and...</td>\n    </tr>\n    <tr>\n      <th>9</th>\n      <td>22</td>\n      <td>I am in Thomassin number 32, in the area named...</td>\n      <td>1</td>\n      <td>0</td>\n      <td>0</td>\n      <td>1</td>\n      <td>0</td>\n      <td>0</td>\n      <td>0</td>\n      <td>0</td>\n      <td>i am in thomassin number in the area name pyro...</td>\n      <td>i be in thomassin number in the area name pyro...</td>\n    </tr>\n    <tr>\n      <th>10</th>\n      <td>24</td>\n      <td>Let's do it together, need food in Delma 75, i...</td>\n      <td>1</td>\n      <td>1</td>\n      <td>0</td>\n      <td>0</td>\n      <td>0</td>\n      <td>0</td>\n      <td>0</td>\n      <td>0</td>\n      <td>let s do it togeth need food in delma in didin...</td>\n      <td>let s do it together need food in delma in did...</td>\n    </tr>\n    <tr>\n      <th>12</th>\n      <td>26</td>\n      <td>A Comitee in Delmas 19, Rue ( street ) Janvier...</td>\n      <td>1</td>\n      <td>1</td>\n      <td>1</td>\n      <td>1</td>\n      <td>0</td>\n      <td>1</td>\n      <td>1</td>\n      <td>0</td>\n      <td>a comite in delma rue street janvier impass ch...</td>\n      <td>a comitee in delmas rue street janvier impasse...</td>\n    </tr>\n  </tbody>\n</table>\n</div>"
     },
     "metadata": {},
     "execution_count": 25
    }
   ],
   "source": [
    "train[train.request == 1].head()"
   ]
  },
  {
   "cell_type": "code",
   "execution_count": null,
   "metadata": {},
   "outputs": [],
   "source": []
  }
 ]
}