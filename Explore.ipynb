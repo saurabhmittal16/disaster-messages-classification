{
 "metadata": {
  "language_info": {
   "codemirror_mode": {
    "name": "ipython",
    "version": 3
   },
   "file_extension": ".py",
   "mimetype": "text/x-python",
   "name": "python",
   "nbconvert_exporter": "python",
   "pygments_lexer": "ipython3",
   "version": "3.8.5-final"
  },
  "orig_nbformat": 2,
  "kernelspec": {
   "name": "python3",
   "display_name": "Python 3.8.5 64-bit ('venv')",
   "metadata": {
    "interpreter": {
     "hash": "7b6d9b5e17dc79cfa963cec4c73255b4ace5fc01d2601e64691ef7bcdf2af544"
    }
   }
  }
 },
 "nbformat": 4,
 "nbformat_minor": 2,
 "cells": [
  {
   "cell_type": "code",
   "execution_count": 2,
   "metadata": {},
   "outputs": [],
   "source": [
    "import pandas as pd"
   ]
  },
  {
   "cell_type": "code",
   "execution_count": 3,
   "metadata": {},
   "outputs": [
    {
     "output_type": "stream",
     "name": "stdout",
     "text": [
      "(21046, 42)\n(2629, 42)\n(2573, 42)\nIndex(['id', 'split', 'message', 'original', 'genre', 'related', 'PII',\n       'request', 'offer', 'aid_related', 'medical_help', 'medical_products',\n       'search_and_rescue', 'security', 'military', 'child_alone', 'water',\n       'food', 'shelter', 'clothing', 'money', 'missing_people', 'refugees',\n       'death', 'other_aid', 'infrastructure_related', 'transport',\n       'buildings', 'electricity', 'tools', 'hospitals', 'shops',\n       'aid_centers', 'other_infrastructure', 'weather_related', 'floods',\n       'storm', 'fire', 'earthquake', 'cold', 'other_weather',\n       'direct_report'],\n      dtype='object')\n"
     ]
    }
   ],
   "source": [
    "training = pd.read_csv(\"./dataset/disaster_response_messages_training.csv\")\n",
    "test = pd.read_csv(\"./dataset/disaster_response_messages_test.csv\")\n",
    "validation = pd.read_csv(\"./dataset/disaster_response_messages_validation.csv\")\n",
    "\n",
    "print(training.shape)\n",
    "print(test.shape)\n",
    "print(validation.shape)\n",
    "\n",
    "print(training.columns)"
   ]
  },
  {
   "cell_type": "code",
   "execution_count": null,
   "metadata": {
    "tags": []
   },
   "outputs": [],
   "source": [
    "print(len(training[training.request == 1]))\n",
    "for col in list(training.columns)[7:]:\n",
    "    print(col, \" -> \", training[col].unique())"
   ]
  },
  {
   "cell_type": "code",
   "execution_count": null,
   "metadata": {},
   "outputs": [],
   "source": [
    "# chosing columns that are ways in which help can be offered\n",
    "chosen_cols = ['food', 'shelter', 'water', 'medical_help', 'medical_products', 'clothing', 'money', 'cold', 'search_and_rescue']\n",
    "for col in chosen_cols:\n",
    "    print(col, training[col].value_counts().to_dict())"
   ]
  },
  {
   "cell_type": "code",
   "execution_count": null,
   "metadata": {
    "tags": []
   },
   "outputs": [],
   "source": [
    "for col in chosen_cols:\n",
    "    print(col, training.message[training[col] == 1][training.request == 1].to_list()[:5])\n",
    "    print(\"-\"*100)"
   ]
  },
  {
   "cell_type": "code",
   "execution_count": null,
   "metadata": {},
   "outputs": [],
   "source": [
    "training[training.clothing == 0].shape"
   ]
  }
 ]
}