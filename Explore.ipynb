{
 "metadata": {
  "language_info": {
   "codemirror_mode": {
    "name": "ipython",
    "version": 3
   },
   "file_extension": ".py",
   "mimetype": "text/x-python",
   "name": "python",
   "nbconvert_exporter": "python",
   "pygments_lexer": "ipython3",
   "version": "3.8.2-final"
  },
  "orig_nbformat": 2,
  "kernelspec": {
   "name": "python_defaultSpec_1600968430189",
   "display_name": "Python 3.8.2 64-bit ('venv': venv)"
  }
 },
 "nbformat": 4,
 "nbformat_minor": 2,
 "cells": [
  {
   "cell_type": "code",
   "execution_count": 1,
   "metadata": {},
   "outputs": [],
   "source": [
    "import pandas as pd"
   ]
  },
  {
   "cell_type": "code",
   "execution_count": 32,
   "metadata": {},
   "outputs": [],
   "source": [
    "training = pd.read_csv(\"./dataset/disaster_response_messages_training.csv\")\n",
    "test = pd.read_csv(\"./dataset/disaster_response_messages_test.csv\")\n",
    "validation = pd.read_csv(\"./dataset/disaster_response_messages_validation.csv\")"
   ]
  },
  {
   "cell_type": "code",
   "execution_count": 35,
   "metadata": {
    "tags": []
   },
   "outputs": [
    {
     "output_type": "stream",
     "name": "stdout",
     "text": "related  ->  [1 0 2]\nPII  ->  [0]\nrequest  ->  [0 1]\noffer  ->  [0]\naid_related  ->  [0 1]\nmedical_help  ->  [0 1]\nmedical_products  ->  [0 1]\nsearch_and_rescue  ->  [0 1]\nsecurity  ->  [0 1]\nmilitary  ->  [0 1]\nchild_alone  ->  [0]\nwater  ->  [0 1]\nfood  ->  [0 1]\nshelter  ->  [0 1]\nclothing  ->  [0 1]\nmoney  ->  [0 1]\nmissing_people  ->  [0 1]\nrefugees  ->  [0 1]\ndeath  ->  [0 1]\nother_aid  ->  [0 1]\ninfrastructure_related  ->  [0 1]\ntransport  ->  [0 1]\nbuildings  ->  [0 1]\nelectricity  ->  [0 1]\ntools  ->  [0 1]\nhospitals  ->  [0 1]\nshops  ->  [0 1]\naid_centers  ->  [0 1]\nother_infrastructure  ->  [0 1]\nweather_related  ->  [0 1]\nfloods  ->  [0 1]\nstorm  ->  [0 1]\nfire  ->  [0 1]\nearthquake  ->  [0 1]\ncold  ->  [0 1]\nother_weather  ->  [0 1]\ndirect_report  ->  [0 1]\n"
    }
   ],
   "source": [
    "for col in list(training.columns)[5:]:\n",
    "    print(col, \" -> \", training[col].unique())"
   ]
  },
  {
   "cell_type": "code",
   "execution_count": 29,
   "metadata": {},
   "outputs": [
    {
     "output_type": "execute_result",
     "data": {
      "text/plain": "count    21046.0\nmean         0.0\nstd          0.0\nmin          0.0\n25%          0.0\n50%          0.0\n75%          0.0\nmax          0.0\nName: offer, dtype: float64"
     },
     "metadata": {},
     "execution_count": 29
    }
   ],
   "source": [
    "training['offer'].describe()"
   ]
  },
  {
   "cell_type": "code",
   "execution_count": 39,
   "metadata": {},
   "outputs": [
    {
     "output_type": "execute_result",
     "data": {
      "text/plain": "array([0, 1])"
     },
     "metadata": {},
     "execution_count": 39
    }
   ],
   "source": [
    "test['offer'].unique()"
   ]
  },
  {
   "cell_type": "code",
   "execution_count": null,
   "metadata": {},
   "outputs": [],
   "source": []
  }
 ]
}