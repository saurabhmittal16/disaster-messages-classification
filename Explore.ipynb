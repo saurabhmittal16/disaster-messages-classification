{
 "metadata": {
  "language_info": {
   "codemirror_mode": {
    "name": "ipython",
    "version": 3
   },
   "file_extension": ".py",
   "mimetype": "text/x-python",
   "name": "python",
   "nbconvert_exporter": "python",
   "pygments_lexer": "ipython3",
   "version": "3.8.5-final"
  },
  "orig_nbformat": 2,
  "kernelspec": {
   "name": "python3",
   "display_name": "Python 3.8.5 64-bit ('venv': venv)",
   "metadata": {
    "interpreter": {
     "hash": "7b6d9b5e17dc79cfa963cec4c73255b4ace5fc01d2601e64691ef7bcdf2af544"
    }
   }
  }
 },
 "nbformat": 4,
 "nbformat_minor": 2,
 "cells": [
  {
   "cell_type": "code",
   "execution_count": 2,
   "metadata": {},
   "outputs": [],
   "source": [
    "import pandas as pd\n",
    "import numpy as np"
   ]
  },
  {
   "cell_type": "code",
   "execution_count": 3,
   "metadata": {},
   "outputs": [
    {
     "output_type": "stream",
     "name": "stdout",
     "text": [
      "(21046, 42)\n(2629, 42)\n(2573, 42)\n"
     ]
    }
   ],
   "source": [
    "training = pd.read_csv(\"./dataset/disaster_response_messages_training.csv\")\n",
    "test = pd.read_csv(\"./dataset/disaster_response_messages_test.csv\")\n",
    "validation = pd.read_csv(\"./dataset/disaster_response_messages_validation.csv\")\n",
    "\n",
    "print(training.shape)\n",
    "print(test.shape)\n",
    "print(validation.shape)"
   ]
  },
  {
   "cell_type": "code",
   "execution_count": 16,
   "metadata": {},
   "outputs": [
    {
     "output_type": "stream",
     "name": "stdout",
     "text": [
      "request (array([1]), array([3560]))\noffer (array([0]), array([3560]))\naid_related (array([0, 1]), array([ 366, 3194]))\nmedical_help (array([0, 1]), array([3032,  528]))\nmedical_products (array([0, 1]), array([3197,  363]))\nsearch_and_rescue (array([0, 1]), array([3358,  202]))\nsecurity (array([0, 1]), array([3425,  135]))\nmilitary (array([0, 1]), array([3501,   59]))\nchild_alone (array([0]), array([3560]))\nwater (array([0, 1]), array([2868,  692]))\nfood (array([0, 1]), array([2297, 1263]))\nshelter (array([0, 1]), array([2605,  955]))\nclothing (array([0, 1]), array([3427,  133]))\nmoney (array([0, 1]), array([3403,  157]))\nmissing_people (array([0, 1]), array([3494,   66]))\nrefugees (array([0, 1]), array([3407,  153]))\ndeath (array([0, 1]), array([3385,  175]))\nother_aid (array([0, 1]), array([2414, 1146]))\ninfrastructure_related (array([0, 1]), array([3261,  299]))\ntransport (array([0, 1]), array([3377,  183]))\nbuildings (array([0, 1]), array([3268,  292]))\nelectricity (array([0, 1]), array([3470,   90]))\ntools (array([0, 1]), array([3523,   37]))\nhospitals (array([0, 1]), array([3507,   53]))\nshops (array([0, 1]), array([3528,   32]))\naid_centers (array([0, 1]), array([3492,   68]))\nother_infrastructure (array([0, 1]), array([3387,  173]))\nweather_related (array([0, 1]), array([2619,  941]))\nfloods (array([0, 1]), array([3296,  264]))\nstorm (array([0, 1]), array([3332,  228]))\nfire (array([0, 1]), array([3528,   32]))\nearthquake (array([0, 1]), array([3205,  355]))\ncold (array([0, 1]), array([3493,   67]))\nother_weather (array([0, 1]), array([3380,  180]))\ndirect_report (array([0, 1]), array([ 906, 2654]))\n"
     ]
    }
   ],
   "source": [
    "for col in training.columns.to_list()[7:]:\n",
    "    print(col, np.unique(training[training.request == 1][col], return_counts=True))"
   ]
  },
  {
   "cell_type": "code",
   "execution_count": 4,
   "metadata": {},
   "outputs": [
    {
     "output_type": "stream",
     "name": "stdout",
     "text": [
      "request (array([0, 1]), array([17486,  3560]))\nfood (array([0, 1]), array([18717,  2329]))\nshelter (array([0, 1]), array([19168,  1878]))\nwater (array([0, 1]), array([19725,  1321]))\nmedical_help (array([0, 1]), array([19392,  1654]))\nclothing (array([0, 1]), array([20723,   323]))\nsearch_and_rescue (array([0, 1]), array([20426,   620]))\n"
     ]
    }
   ],
   "source": [
    "model_cols = ['request', 'food', 'shelter', 'water', 'medical_help', 'clothing', 'search_and_rescue']\n",
    "\n",
    "for col in  model_cols:\n",
    "    arr = training[col]\n",
    "    print(col, np.unique(arr, return_counts=True))"
   ]
  },
  {
   "cell_type": "code",
   "execution_count": 5,
   "metadata": {},
   "outputs": [
    {
     "output_type": "stream",
     "name": "stdout",
     "text": [
      "request (array([0, 1]), array([2130,  499]))\nfood (array([0, 1]), array([2303,  326]))\nshelter (array([0, 1]), array([2399,  230]))\nwater (array([0, 1]), array([2433,  196]))\nmedical_help (array([0, 1]), array([2409,  220]))\nclothing (array([0, 1]), array([2592,   37]))\nsearch_and_rescue (array([0, 1]), array([2602,   27]))\n"
     ]
    }
   ],
   "source": [
    "for col in  model_cols:\n",
    "    arr = test[col]\n",
    "    print(col, np.unique(arr, return_counts=True))"
   ]
  },
  {
   "cell_type": "code",
   "execution_count": 6,
   "metadata": {},
   "outputs": [
    {
     "output_type": "stream",
     "name": "stdout",
     "text": [
      "request (array([0, 1]), array([2152,  421]))\nfood (array([0, 1]), array([2298,  275]))\nshelter (array([0, 1]), array([2362,  211]))\nwater (array([0, 1]), array([2416,  157]))\nmedical_help (array([0, 1]), array([2360,  213]))\nclothing (array([0, 1]), array([2527,   46]))\nsearch_and_rescue (array([0, 1]), array([2496,   77]))\n"
     ]
    }
   ],
   "source": [
    "for col in  model_cols:\n",
    "    arr = validation[col]\n",
    "    print(col, np.unique(arr, return_counts=True))"
   ]
  },
  {
   "cell_type": "code",
   "execution_count": null,
   "metadata": {},
   "outputs": [],
   "source": [
    "# chosing columns that are ways in which help can be offered\n",
    "chosen_cols = ['food', 'shelter', 'water', 'medical_help', 'medical_products', 'clothing', 'money', 'cold', 'search_and_rescue']\n",
    "for col in chosen_cols:\n",
    "    print(col, training[col].value_counts().to_dict())"
   ]
  },
  {
   "cell_type": "code",
   "execution_count": null,
   "metadata": {
    "tags": []
   },
   "outputs": [],
   "source": [
    "for col in chosen_cols:\n",
    "    print(col, training.message[training[col] == 1][training.request == 1].to_list()[:5])\n",
    "    print(\"-\"*100)"
   ]
  },
  {
   "cell_type": "code",
   "execution_count": null,
   "metadata": {},
   "outputs": [],
   "source": [
    "training[training.clothing == 0].shape"
   ]
  }
 ]
}