{
 "metadata": {
  "language_info": {
   "codemirror_mode": {
    "name": "ipython",
    "version": 3
   },
   "file_extension": ".py",
   "mimetype": "text/x-python",
   "name": "python",
   "nbconvert_exporter": "python",
   "pygments_lexer": "ipython3",
   "version": "3.8.2-final"
  },
  "orig_nbformat": 2,
  "kernelspec": {
   "name": "Python 3.8.2 64-bit ('venv')",
   "display_name": "Python 3.8.2 64-bit ('venv')",
   "metadata": {
    "interpreter": {
     "hash": "bb00d9d29b194fe12287f7d0efed254336d2828f728939c93de53e1bd760a651"
    }
   }
  }
 },
 "nbformat": 4,
 "nbformat_minor": 2,
 "cells": [
  {
   "cell_type": "code",
   "execution_count": null,
   "metadata": {},
   "outputs": [],
   "source": [
    "import pandas as pd"
   ]
  },
  {
   "cell_type": "code",
   "execution_count": null,
   "metadata": {},
   "outputs": [],
   "source": [
    "training = pd.read_csv(\"./dataset/disaster_response_messages_training.csv\")\n",
    "test = pd.read_csv(\"./dataset/disaster_response_messages_test.csv\")\n",
    "validation = pd.read_csv(\"./dataset/disaster_response_messages_validation.csv\")"
   ]
  },
  {
   "cell_type": "code",
   "execution_count": null,
   "metadata": {
    "tags": []
   },
   "outputs": [],
   "source": [
    "for col in list(training.columns)[7:]:\n",
    "    print(col, \" -> \", training[col].unique())"
   ]
  },
  {
   "cell_type": "code",
   "execution_count": null,
   "metadata": {},
   "outputs": [],
   "source": [
    "a = training['food'].value_counts().to_dict()\n",
    "a"
   ]
  },
  {
   "cell_type": "code",
   "execution_count": 71,
   "metadata": {
    "tags": []
   },
   "outputs": [
    {
     "output_type": "execute_result",
     "data": {
      "text/plain": "[(3676, ['aid_related', 12361, 8685]),\n (9316, ['weather_related', 15181, 5865]),\n (13028, ['direct_report', 17037, 4009]),\n (13926, ['request', 17486, 3560]),\n (15294, ['other_aid', 18170, 2876]),\n (16388, ['food', 18717, 2329]),\n (17088, ['earthquake', 19067, 1979]),\n (17100, ['storm', 19073, 1973]),\n (17290, ['shelter', 19168, 1878]),\n (17652, ['floods', 19349, 1697]),\n (17738, ['medical_help', 19392, 1654]),\n (18170, ['infrastructure_related', 19608, 1438]),\n (18404, ['water', 19725, 1321]),\n (18770, ['other_weather', 19908, 1138]),\n (18858, ['buildings', 19952, 1094]),\n (18904, ['medical_products', 19975, 1071]),\n (19070, ['other_infrastructure', 20058, 988]),\n (19118, ['death', 20082, 964]),\n (19150, ['transport', 20098, 948]),\n (19610, ['refugees', 20328, 718]),\n (19718, ['military', 20382, 664]),\n (19806, ['search_and_rescue', 20426, 620]),\n (20072, ['money', 20559, 487]),\n (20148, ['electricity', 20597, 449]),\n (20196, ['cold', 20621, 425]),\n (20242, ['security', 20644, 402]),\n (20400, ['clothing', 20723, 323]),\n (20530, ['aid_centers', 20788, 258]),\n (20542, ['missing_people', 20794, 252]),\n (20568, ['fire', 20807, 239]),\n (20590, ['hospitals', 20818, 228]),\n (20766, ['tools', 20906, 140]),\n (20848, ['shops', 20947, 99]),\n (21046, ['child_alone', 21046, 0]),\n (21046, ['offer', 21046, 0])]"
     },
     "metadata": {},
     "execution_count": 71
    }
   ],
   "source": [
    "cols_val_distribution = []\n",
    "for col in training.columns.to_list()[7:]:\n",
    "    vals = training[col].value_counts().to_dict()\n",
    "    if (1 not in vals.keys()):\n",
    "        vals[1] = 0\n",
    "    if (0 not in vals.keys()):\n",
    "        vals[0] = 0\n",
    "    diff = vals[0] - vals[1]\n",
    "    cols_val_distribution.append((diff, [col, vals[0], vals[1]]))\n",
    "cols_val_distribution.sort()\n",
    "cols_val_distribution"
   ]
  },
  {
   "cell_type": "code",
   "execution_count": 104,
   "metadata": {},
   "outputs": [],
   "source": [
    "# chosing columns that are ways in which help can be offered\n",
    "chosen_cols = ['food', 'shelter', 'water', 'medical_help', 'medical_products', 'clothing', 'money', 'cold', 'search_and_rescue']"
   ]
  },
  {
   "cell_type": "code",
   "execution_count": 107,
   "metadata": {
    "tags": []
   },
   "outputs": [
    {
     "output_type": "stream",
     "name": "stdout",
     "text": "[\"There's nothing to eat and water, we starving and thirsty.\", \"Let's do it together, need food in Delma 75, in didine area\", 'A Comitee in Delmas 19, Rue ( street ) Janvier, Impasse Charite #2. We have about 500 people in a temporary shelter and we are in dire need of Water, Food, Medications, Tents and Clothes. Please stop by and see us.', 'We need food and water in Klecin 12. We are dying of hunger. Impasse Chretien Klecin 12 extended ( extension ) We are hungry and sick.', 'Those people who live at Sibert need food they are hungry.']\n----------------------------------------\n['Please, we need tents and water. We are in Silo, Thank you!', 'A Comitee in Delmas 19, Rue ( street ) Janvier, Impasse Charite #2. We have about 500 people in a temporary shelter and we are in dire need of Water, Food, Medications, Tents and Clothes. Please stop by and see us.', 'The Comite Miracle in the area of Alerte Rue Monseigneur Guilloux, ( Streets, Alerte and the cross street is Mgr Guilloux ) would like to urgently receive food, water and tents for the people in that area. Thanks', 'My home is at Gressier, it has almost collapsed. I would like to distroy it before it collapses completly.', 'food water mediacation, we dont have tents to protect our selves, i am using my cistern. lovation not provided']\n----------------------------------------\n['Please, we need tents and water. We are in Silo, Thank you!', \"There's nothing to eat and water, we starving and thirsty.\", 'I am in Thomassin number 32, in the area named Pyron. I would like to have some water. Thank God we are fine, but we desperately need water. Thanks', 'A Comitee in Delmas 19, Rue ( street ) Janvier, Impasse Charite #2. We have about 500 people in a temporary shelter and we are in dire need of Water, Food, Medications, Tents and Clothes. Please stop by and see us.', 'We need food and water in Klecin 12. We are dying of hunger. Impasse Chretien Klecin 12 extended ( extension ) We are hungry and sick.']\n----------------------------------------\n[\"There's nothing to eat and water, we starving and thirsty.\", 'We need food and water in Klecin 12. We are dying of hunger. Impasse Chretien Klecin 12 extended ( extension ) We are hungry and sick.', \"For your information, There are people that are found in the rubbles of the School of Trinite, ( L'Ecole Sainte Trinite ) in Jacmel. Cookies brought to them by Colombian dogs are keeping them alive.\", 'Please we need help, food and toiletries.', 'The ADJS group house in Jacmel. They are talking with people in the southeast. There are a lot of victims and people suffering, especially in Jacmel. Something about an entire house collapsing. The road sot pop in Jacmel is cut off.']\n----------------------------------------\n[\"There's nothing to eat and water, we starving and thirsty.\", 'A Comitee in Delmas 19, Rue ( street ) Janvier, Impasse Charite #2. We have about 500 people in a temporary shelter and we are in dire need of Water, Food, Medications, Tents and Clothes. Please stop by and see us.', \"We're asking for water, medical supply, food\", 'Please we need help, food and toiletries.', 'The wounded in the Saint Michely hospital have no medicine. (This looks like part of a message that got cut off)']\n----------------------------------------\n['A Comitee in Delmas 19, Rue ( street ) Janvier, Impasse Charite #2. We have about 500 people in a temporary shelter and we are in dire need of Water, Food, Medications, Tents and Clothes. Please stop by and see us.', 'We have a big problem in Jacmel, we left Port-au-Prince without food, clothes and money. we are really in a critical situation.', 'We are a group of police and we found a kid on road 10? st anne please send rescue', 'I am from Anse a pitree my house which was in Delmas 32 was destroyed with everything I had inside. I went back to my hometown of Anse a pitrea. I would like to know how to get some help, because I have absolutely nothing!', 'Please. Send humanitarian aid so we can survive. We are in Delmas 40B village Musso on the golf course. Thank you']\n----------------------------------------\n['We have a big problem in Jacmel, we left Port-au-Prince without food, clothes and money. we are really in a critical situation.', 'The road is damaged and there is no gas, would like to find a motocycle. It costs 500 to go to Port-au-Prince. No one has any money.', 'I am in Petion Ville, in b. .. incomprehensible, we have no water, there is nothing, there is no money. What is being given in Petion Ville and where?', 'I am from Anse a pitree my house which was in Delmas 32 was destroyed with everything I had inside. I went back to my hometown of Anse a pitrea. I would like to know how to get some help, because I have absolutely nothing!', 'Please. Send humanitarian aid so we can survive. We are in Delmas 40B village Musso on the golf course. Thank you']\n----------------------------------------\n[\"We live in La plaine, we've sleeping in the streets since tuesday. Our house is destroyed. We are dying of thirst and hunger. we can't take this anymore. we'd like to know when the help is coming.\", 'starting from saint michel delatalay we have people that are leaving port au prince and that are coming with their friends. can you send help for saint michel', 'We are so happy to hear the message that is where we at. It is a space that is very difficult where the cold is eating us up. We need tents, blankets and mattress and bed. ', 'good evening they say the earthquake will be going again on saturday at the same scale?', 'Please, we need your hlep. Do not neglect the provincial villages. We have many people who need care in a hospital. We are suffering. And all the prisoners have escaped in Gonaives.']\n----------------------------------------\n['Our area, because we are in an area that has many victims with no help.', 'I am in Petion Ville, in b. .. incomprehensible, we have no water, there is nothing, there is no money. What is being given in Petion Ville and where?', \"We live in La plaine, we've sleeping in the streets since tuesday. Our house is destroyed. We are dying of thirst and hunger. we can't take this anymore. we'd like to know when the help is coming.\", 'There are a lot of criminals in Jacmel city. We are asking the police to come there.', 'What is being done for Jacmel - there are many people trapped underneath rubbles at college Latriniti help']\n----------------------------------------\n"
    }
   ],
   "source": [
    "for col in chosen_cols:\n",
    "    print(training.message[training[col] == 1][training.request == 1].to_list()[:5])\n",
    "    print(\"-\"*100)"
   ]
  },
  {
   "cell_type": "code",
   "execution_count": null,
   "metadata": {},
   "outputs": [],
   "source": []
  }
 ]
}