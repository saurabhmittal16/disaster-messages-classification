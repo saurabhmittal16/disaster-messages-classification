{
  "nbformat": 4,
  "nbformat_minor": 0,
  "metadata": {
    "colab": {
      "name": "NLP Project.ipynb",
      "provenance": [],
      "collapsed_sections": []
    },
    "kernelspec": {
      "name": "python3",
      "display_name": "Python 3"
    }
  },
  "cells": [
    {
      "cell_type": "code",
      "metadata": {
        "id": "sk5CygaAOpJZ"
      },
      "source": [
        "import pickle\n",
        "import pandas as pd\n",
        "import numpy as np\n",
        "from sklearn import metrics\n",
        "import matplotlib.pyplot as plt\n",
        "from nltk.tokenize import RegexpTokenizer\n",
        "from sklearn.svm import SVC\n",
        "from sklearn.linear_model import LogisticRegression\n",
        "from sklearn.feature_extraction.text import CountVectorizer, TfidfVectorizer\n",
        "\n",
        "tokenizer = RegexpTokenizer(r'[a-zA-Z0-9]+').tokenize\n",
        "model_cols = ['food', 'shelter', 'water']"
      ],
      "execution_count": 4,
      "outputs": []
    },
    {
      "cell_type": "code",
      "metadata": {
        "id": "QR7s1nJCOVOP"
      },
      "source": [
        "train = pd.read_csv(\"./preprocessed/training.csv\")\n",
        "test = pd.read_csv(\"./preprocessed/test.csv\")\n",
        "validation = pd.read_csv(\"./preprocessed/validation.csv\")"
      ],
      "execution_count": 5,
      "outputs": []
    },
    {
      "cell_type": "code",
      "metadata": {
        "id": "gk2QIgBEOhzx",
        "outputId": "bf909b49-ad14-4de9-dd8e-89e75635303c",
        "colab": {
          "base_uri": "https://localhost:8080/"
        }
      },
      "source": [
        "# Using TFIDF multi stemmed model\n",
        "vectorizer = TfidfVectorizer(lowercase=True, strip_accents='unicode', ngram_range = (1,2), tokenizer = tokenizer, max_features=100000)\n",
        "features = vectorizer.fit_transform(train['message_stem'])\n",
        "print(features.shape)"
      ],
      "execution_count": 6,
      "outputs": [
        {
          "output_type": "stream",
          "name": "stdout",
          "text": [
            "(21042, 100000)\n"
          ]
        }
      ]
    },
    {
      "cell_type": "markdown",
      "metadata": {
        "id": "yovG973IkfM0"
      },
      "source": [
        "Use only features where request = 1"
      ]
    },
    {
      "cell_type": "code",
      "metadata": {
        "id": "Mhlb41TLgmZQ"
      },
      "source": [
        "indexes = np.where(train.request == 1)[0].tolist()\n",
        "stripped = features[indexes, :]"
      ],
      "execution_count": 7,
      "outputs": []
    },
    {
      "cell_type": "code",
      "metadata": {
        "id": "0zYoOjALgsiM",
        "outputId": "cf80a7ca-9f34-437b-e8e0-b19709de21dc",
        "colab": {
          "base_uri": "https://localhost:8080/"
        }
      },
      "source": [
        "print(stripped.shape)"
      ],
      "execution_count": 8,
      "outputs": [
        {
          "output_type": "stream",
          "name": "stdout",
          "text": [
            "(3560, 100000)\n"
          ]
        }
      ]
    },
    {
      "cell_type": "markdown",
      "metadata": {
        "id": "jfRWeeT6iLjZ"
      },
      "source": [
        "Request classifier"
      ]
    },
    {
      "cell_type": "code",
      "metadata": {
        "id": "9-HyItMWg0XY",
        "outputId": "685620d7-95ac-4a0d-c35e-1a0fef77c19e",
        "colab": {
          "base_uri": "https://localhost:8080/"
        }
      },
      "source": [
        "request_classifier = SVC(C=3.0, kernel='linear')\n",
        "clf = request_classifier.fit(features, train.request)\n",
        "\n",
        "val_x = validation.message_stem\n",
        "val_y = validation.request\n",
        "\n",
        "val_input = vectorizer.transform(val_x)\n",
        "prediction = clf.predict(val_input)\n",
        "\n",
        "score = metrics.accuracy_score(prediction, val_y)\n",
        "report = metrics.classification_report(prediction, val_y)\n",
        "\n",
        "print(score)\n",
        "print(report)"
      ],
      "execution_count": 9,
      "outputs": [
        {
          "output_type": "stream",
          "name": "stdout",
          "text": [
            "0.9004665629860031\n              precision    recall  f1-score   support\n\n           0       0.95      0.93      0.94      2179\n           1       0.66      0.71      0.69       393\n\n    accuracy                           0.90      2572\n   macro avg       0.80      0.82      0.81      2572\nweighted avg       0.90      0.90      0.90      2572\n\n"
          ]
        }
      ]
    },
    {
      "cell_type": "markdown",
      "metadata": {
        "id": "pwQ0Z0r6o3BN"
      },
      "source": [
        "Use only rows with request = 1"
      ]
    },
    {
      "cell_type": "code",
      "metadata": {
        "id": "McyNOmemnuJa",
        "outputId": "e46d6cba-3c3d-4b47-c29b-0fce8cd545b4",
        "colab": {
          "base_uri": "https://localhost:8080/"
        }
      },
      "source": [
        "validation_stripped = validation[validation.request == 1]\n",
        "train_stripped = train[train.request == 1]\n",
        "\n",
        "print(train_stripped.shape)\n",
        "print(validation_stripped.shape)"
      ],
      "execution_count": 10,
      "outputs": [
        {
          "output_type": "stream",
          "name": "stdout",
          "text": [
            "(3560, 8)\n(421, 8)\n"
          ]
        }
      ]
    },
    {
      "cell_type": "markdown",
      "metadata": {
        "id": "OClVJYHinfaA"
      },
      "source": [
        "Food classifier"
      ]
    },
    {
      "cell_type": "code",
      "metadata": {
        "id": "CxbOiF5hnZ90",
        "outputId": "56caae90-b787-4006-b829-28cbbd63b4d9",
        "colab": {
          "base_uri": "https://localhost:8080/"
        }
      },
      "source": [
        "food_classifier = SVC(C=3.0, kernel='linear')\n",
        "clf = food_classifier.fit(stripped, train_stripped.food)\n",
        "\n",
        "val_x = validation_stripped.message_stem\n",
        "val_y = validation_stripped.food\n",
        "\n",
        "val_input = vectorizer.transform(val_x)\n",
        "prediction = clf.predict(val_input)\n",
        "\n",
        "score = metrics.accuracy_score(prediction, val_y)\n",
        "report = metrics.classification_report(prediction, val_y)\n",
        "\n",
        "print(score)\n",
        "print(report)\n",
        "print(metrics.confusion_matrix(prediction, val_y))"
      ],
      "execution_count": 11,
      "outputs": [
        {
          "output_type": "stream",
          "name": "stdout",
          "text": [
            "0.9406175771971497\n              precision    recall  f1-score   support\n\n           0       0.97      0.93      0.95       274\n           1       0.89      0.95      0.92       147\n\n    accuracy                           0.94       421\n   macro avg       0.93      0.94      0.94       421\nweighted avg       0.94      0.94      0.94       421\n\n[[256  18]\n [  7 140]]\n"
          ]
        }
      ]
    },
    {
      "cell_type": "markdown",
      "metadata": {
        "id": "Wz9f66_loJfu"
      },
      "source": [
        "Shelter classifier"
      ]
    },
    {
      "cell_type": "code",
      "metadata": {
        "id": "EuuMMelboHm_",
        "outputId": "0cbda458-9d6a-46d5-aa77-2723596942db",
        "colab": {
          "base_uri": "https://localhost:8080/"
        }
      },
      "source": [
        "shelter_classifier = SVC(C=3.0, kernel='linear')\n",
        "clf = shelter_classifier.fit(stripped, train_stripped.shelter)\n",
        "\n",
        "val_x = validation_stripped.message_stem\n",
        "val_y = validation_stripped.shelter\n",
        "\n",
        "val_input = vectorizer.transform(val_x)\n",
        "prediction = clf.predict(val_input)\n",
        "\n",
        "score = metrics.accuracy_score(prediction, val_y)\n",
        "report = metrics.classification_report(prediction, val_y)\n",
        "\n",
        "print(score)\n",
        "print(report)\n",
        "print(metrics.confusion_matrix(prediction, val_y))"
      ],
      "execution_count": 12,
      "outputs": [
        {
          "output_type": "stream",
          "name": "stdout",
          "text": [
            "0.8954869358669834\n              precision    recall  f1-score   support\n\n           0       0.94      0.93      0.93       321\n           1       0.77      0.80      0.78       100\n\n    accuracy                           0.90       421\n   macro avg       0.85      0.86      0.86       421\nweighted avg       0.90      0.90      0.90       421\n\n[[297  24]\n [ 20  80]]\n"
          ]
        }
      ]
    },
    {
      "cell_type": "markdown",
      "metadata": {
        "id": "CasEgyzhoRzr"
      },
      "source": [
        "Water classifier"
      ]
    },
    {
      "cell_type": "code",
      "metadata": {
        "id": "bAzSNNPuoHw6",
        "outputId": "82780bef-269c-479f-d20f-87a81aa8a3e0",
        "colab": {
          "base_uri": "https://localhost:8080/"
        }
      },
      "source": [
        "water_classifier = SVC(C=3.0, kernel='linear')\n",
        "clf = water_classifier.fit(stripped, train_stripped.water)\n",
        "\n",
        "val_x = validation_stripped.message_stem\n",
        "val_y = validation_stripped.water\n",
        "\n",
        "val_input = vectorizer.transform(val_x)\n",
        "prediction = clf.predict(val_input)\n",
        "\n",
        "score = metrics.accuracy_score(prediction, val_y)\n",
        "report = metrics.classification_report(prediction, val_y)\n",
        "\n",
        "print(score)\n",
        "print(report)\n",
        "print(metrics.confusion_matrix(prediction, val_y))"
      ],
      "execution_count": 13,
      "outputs": [
        {
          "output_type": "stream",
          "name": "stdout",
          "text": [
            "0.9619952494061758\n              precision    recall  f1-score   support\n\n           0       0.99      0.96      0.98       355\n           1       0.83      0.95      0.89        66\n\n    accuracy                           0.96       421\n   macro avg       0.91      0.96      0.93       421\nweighted avg       0.97      0.96      0.96       421\n\n[[342  13]\n [  3  63]]\n"
          ]
        }
      ]
    },
    {
      "cell_type": "code",
      "execution_count": 14,
      "metadata": {},
      "outputs": [],
      "source": [
        "final_obj = {\n",
        "    \"classifiers\": {\n",
        "        \"request\": request_classifier,\n",
        "        \"food\": food_classifier,\n",
        "        \"shelter\": shelter_classifier,\n",
        "        \"water\": water_classifier\n",
        "    },\n",
        "    \"vectorizer\": vectorizer\n",
        "}"
      ]
    },
    {
      "cell_type": "code",
      "execution_count": 15,
      "metadata": {},
      "outputs": [],
      "source": [
        "with open('./pickles/model.pickle', 'wb') as file:\n",
        "    pickle.dump(final_obj, file)"
      ]
    },
    {
      "cell_type": "code",
      "metadata": {
        "id": "wmZmnx4zX_mL",
        "outputId": "5cba5c7c-4621-45d5-f679-1ba6813eb69a",
        "colab": {
          "base_uri": "https://localhost:8080/"
        }
      },
      "source": [
        "test_input = vectorizer.transform([\"i love eating food and earthquakes\"]) \n",
        "prediction = request_classifier.predict(test_input)\n",
        "print(prediction)"
      ],
      "execution_count": 16,
      "outputs": [
        {
          "output_type": "stream",
          "name": "stdout",
          "text": [
            "[0]\n"
          ]
        }
      ]
    }
  ]
}