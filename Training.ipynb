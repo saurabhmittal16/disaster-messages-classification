{
 "metadata": {
  "language_info": {
   "codemirror_mode": {
    "name": "ipython",
    "version": 3
   },
   "file_extension": ".py",
   "mimetype": "text/x-python",
   "name": "python",
   "nbconvert_exporter": "python",
   "pygments_lexer": "ipython3",
   "version": "3.8.5-final"
  },
  "orig_nbformat": 2,
  "kernelspec": {
   "name": "python3",
   "display_name": "Python 3"
  }
 },
 "nbformat": 4,
 "nbformat_minor": 2,
 "cells": [
  {
   "cell_type": "code",
   "execution_count": 77,
   "metadata": {},
   "outputs": [],
   "source": [
    "import pandas as pd\n",
    "import numpy as np\n",
    "from nltk.tokenize import RegexpTokenizer\n",
    "from sklearn import metrics\n",
    "from sklearn.model_selection import train_test_split\n",
    "from sklearn.linear_model import LogisticRegression\n",
    "from sklearn.feature_extraction.text import CountVectorizer, TfidfVectorizer\n",
    "\n",
    "tokenizer = RegexpTokenizer(r'[a-zA-Z0-9]+').tokenize"
   ]
  },
  {
   "cell_type": "code",
   "execution_count": 78,
   "metadata": {},
   "outputs": [],
   "source": [
    "model_cols = ['request', 'food', 'shelter', 'water', 'medical_help', 'medical_products', 'clothing', 'search_and_rescue']"
   ]
  },
  {
   "cell_type": "code",
   "execution_count": 79,
   "metadata": {},
   "outputs": [],
   "source": [
    "train = pd.read_csv(\"./preprocessed/training.csv\")\n",
    "test = pd.read_csv(\"./preprocessed/test.csv\")\n",
    "validation = pd.read_csv(\"./preprocessed/validation.csv\")"
   ]
  },
  {
   "cell_type": "code",
   "execution_count": 80,
   "metadata": {},
   "outputs": [],
   "source": [
    "logis_clf = LogisticRegression(max_iter=1500)"
   ]
  },
  {
   "cell_type": "code",
   "execution_count": 81,
   "metadata": {},
   "outputs": [],
   "source": [
    "vectorizers = {\n",
    "    'count' : CountVectorizer(lowercase=False, stop_words='english', ngram_range = (1,1), tokenizer = tokenizer),\n",
    "    'count_multi' : CountVectorizer(lowercase=False, stop_words='english', ngram_range = (1,2), tokenizer = tokenizer, max_features=80000),\n",
    "    'tfidf' : TfidfVectorizer(lowercase=True, strip_accents='unicode', ngram_range = (1,1), tokenizer = tokenizer),\n",
    "    'tfidf_multi' : TfidfVectorizer(lowercase=True, strip_accents='unicode', ngram_range = (1,2), tokenizer = tokenizer, max_features=100000)\n",
    "}\n",
    "\n",
    "cols = ['message', 'message_stem', 'message_lemma']\n",
    "\n",
    "training_features = {}"
   ]
  },
  {
   "cell_type": "code",
   "execution_count": 82,
   "metadata": {
    "tags": []
   },
   "outputs": [
    {
     "output_type": "stream",
     "name": "stdout",
     "text": [
      "Training data features:\n",
      "count_message: 37044\n",
      "count_message_stem: 21213\n",
      "count_message_lemma: 24538\n",
      "count_multi_message: 80000\n",
      "count_multi_message_stem: 80000\n",
      "count_multi_message_lemma: 80000\n",
      "tfidf_message: 31208\n",
      "tfidf_message_stem: 21451\n",
      "tfidf_message_lemma: 24824\n",
      "tfidf_multi_message: 100000\n",
      "tfidf_multi_message_stem: 100000\n",
      "tfidf_multi_message_lemma: 100000\n"
     ]
    }
   ],
   "source": [
    "print(\"Training data features:\")\n",
    "for v in vectorizers:\n",
    "    for col in cols:\n",
    "        curr_vectorizer = vectorizers[v]\n",
    "        key = v + '_' + col\n",
    "        training_features[key] = curr_vectorizer.fit_transform(train[col])\n",
    "        print(key + \":\", len(curr_vectorizer.get_feature_names()))"
   ]
  },
  {
   "cell_type": "code",
   "execution_count": 83,
   "metadata": {},
   "outputs": [],
   "source": [
    "def training(x):\n",
    "    # x is the feature matrix of training data (count or tfidf)\n",
    "    \n",
    "    classifiers = {}\n",
    "    roc_auc_scores = {}\n",
    "\n",
    "    for col in model_cols:\n",
    "        y = train[col]\n",
    "        x_train, x_test, y_train, y_test = train_test_split(x, y, test_size=0.3, random_state=79)\n",
    "\n",
    "        clf = logis_clf.fit(x_train, y_train)\n",
    "        predicted = clf.predict_proba(x_test)[:, 1]\n",
    "        score = metrics.roc_auc_score(y_test, predicted)\n",
    "\n",
    "        classifiers[col] = clf\n",
    "        roc_auc_scores[col] = score\n",
    "    \n",
    "    avg = 0\n",
    "    for key in roc_auc_scores:\n",
    "        print(\"Score for {}: \".format(key), roc_auc_scores[key])\n",
    "        avg += roc_auc_scores[key]\n",
    "\n",
    "    avg /= len(model_cols)\n",
    "    print(\"Final Score: \", avg)\n",
    "\n",
    "    return classifiers, roc_auc_scores"
   ]
  },
  {
   "cell_type": "code",
   "execution_count": 84,
   "metadata": {},
   "outputs": [],
   "source": [
    "result_classifiers = {}"
   ]
  },
  {
   "cell_type": "code",
   "execution_count": 85,
   "metadata": {},
   "outputs": [
    {
     "output_type": "stream",
     "name": "stdout",
     "text": [
      "\n",
      "count_message\n",
      "Score for request:  0.8633460977149833\n",
      "Score for food:  0.93789992064899\n",
      "Score for shelter:  0.915268919808698\n",
      "Score for water:  0.9275831919613727\n",
      "Score for medical_help:  0.81327075986633\n",
      "Score for medical_products:  0.8298822903009726\n",
      "Score for clothing:  0.8743173469215012\n",
      "Score for search_and_rescue:  0.7544430924266055\n",
      "Final Score:  0.8645014524561816\n",
      "\n",
      "count_message_stem\n",
      "Score for request:  0.8716080925211678\n",
      "Score for food:  0.9420640020766328\n",
      "Score for shelter:  0.9231987725249444\n",
      "Score for water:  0.9212453782243681\n",
      "Score for medical_help:  0.8216741421007212\n",
      "Score for medical_products:  0.8249720897479205\n",
      "Score for clothing:  0.8727006483722978\n",
      "Score for search_and_rescue:  0.7682593817660399\n",
      "Final Score:  0.8682153134167616\n",
      "\n",
      "count_message_lemma\n",
      "Score for request:  0.8675082151598075\n",
      "Score for food:  0.9400074180531989\n",
      "Score for shelter:  0.9223471123071001\n",
      "Score for water:  0.9170327112967072\n",
      "Score for medical_help:  0.8165230175894653\n",
      "Score for medical_products:  0.828523705107433\n",
      "Score for clothing:  0.8647322713344957\n",
      "Score for search_and_rescue:  0.7594084255466628\n",
      "Final Score:  0.8645103595493588\n",
      "\n",
      "count_multi_message\n",
      "Score for request:  0.8672995382370138\n",
      "Score for food:  0.9387818037159908\n",
      "Score for shelter:  0.9174309771185782\n",
      "Score for water:  0.9335643133672626\n",
      "Score for medical_help:  0.8217586624477519\n",
      "Score for medical_products:  0.826990501926523\n",
      "Score for clothing:  0.8827326437676695\n",
      "Score for search_and_rescue:  0.7392690724967199\n",
      "Final Score:  0.8659784391346886\n",
      "\n",
      "count_multi_message_stem\n",
      "Score for request:  0.8759529461427616\n",
      "Score for food:  0.9469089510471801\n",
      "Score for shelter:  0.9283150591598881\n",
      "Score for water:  0.9284014093696986\n",
      "Score for medical_help:  0.8249917432854267\n",
      "Score for medical_products:  0.8311415436230084\n",
      "Score for clothing:  0.8831186199658039\n",
      "Score for search_and_rescue:  0.7519237690448851\n",
      "Final Score:  0.8713442552048315\n",
      "\n",
      "count_multi_message_lemma\n",
      "Score for request:  0.8736551980828284\n",
      "Score for food:  0.9433458057926237\n",
      "Score for shelter:  0.9274608386902837\n",
      "Score for water:  0.9237728913828352\n",
      "Score for medical_help:  0.8232906825195587\n",
      "Score for medical_products:  0.8352565166860368\n",
      "Score for clothing:  0.875847708689543\n",
      "Score for search_and_rescue:  0.7501261565941337\n",
      "Final Score:  0.8690944748047306\n",
      "\n",
      "tfidf_message\n",
      "Score for request:  0.8909344795188513\n",
      "Score for food:  0.9515141059082737\n",
      "Score for shelter:  0.9290379537745039\n",
      "Score for water:  0.9427065118099962\n",
      "Score for medical_help:  0.8487057377951555\n",
      "Score for medical_products:  0.8524171709595975\n",
      "Score for clothing:  0.9125086760000677\n",
      "Score for search_and_rescue:  0.7902534747810588\n",
      "Final Score:  0.889759763818438\n",
      "\n",
      "tfidf_message_stem\n",
      "Score for request:  0.8935646763887506\n",
      "Score for food:  0.9530069495445758\n",
      "Score for shelter:  0.9335355631017721\n",
      "Score for water:  0.9425673148027318\n",
      "Score for medical_help:  0.8580580207323439\n",
      "Score for medical_products:  0.856713345966897\n",
      "Score for clothing:  0.911707944676745\n",
      "Score for search_and_rescue:  0.8041506947657867\n",
      "Final Score:  0.8941630637474504\n",
      "\n",
      "tfidf_message_lemma\n",
      "Score for request:  0.8930920767222797\n",
      "Score for food:  0.9525785385063439\n",
      "Score for shelter:  0.9329198978549911\n",
      "Score for water:  0.9426186436991605\n",
      "Score for medical_help:  0.8516405115256633\n",
      "Score for medical_products:  0.8569005593500776\n",
      "Score for clothing:  0.9076331871815273\n",
      "Score for search_and_rescue:  0.7987816605445014\n",
      "Final Score:  0.8920206344230682\n",
      "\n",
      "tfidf_multi_message\n",
      "Score for request:  0.8918339948076011\n",
      "Score for food:  0.9506464680358937\n",
      "Score for shelter:  0.9213349092435932\n",
      "Score for water:  0.944381660794293\n",
      "Score for medical_help:  0.8456910603752279\n",
      "Score for medical_products:  0.8485343539420726\n",
      "Score for clothing:  0.9071574884461071\n",
      "Score for search_and_rescue:  0.7860393684743716\n",
      "Final Score:  0.886952413014895\n",
      "\n",
      "tfidf_multi_message_stem\n",
      "Score for request:  0.8956776519676188\n",
      "Score for food:  0.9533140126286288\n",
      "Score for shelter:  0.9287304223572027\n",
      "Score for water:  0.9450776458306145\n",
      "Score for medical_help:  0.8556562933921423\n",
      "Score for medical_products:  0.8545091517000922\n",
      "Score for clothing:  0.9086184422136074\n",
      "Score for search_and_rescue:  0.7994700470921142\n",
      "Final Score:  0.8926317083977527\n",
      "\n",
      "tfidf_multi_message_lemma\n",
      "Score for request:  0.8952898688017996\n",
      "Score for food:  0.9527935354251611\n",
      "Score for shelter:  0.929867174138686\n",
      "Score for water:  0.9450519813824003\n",
      "Score for medical_help:  0.8487437364385683\n",
      "Score for medical_products:  0.8524377816072871\n",
      "Score for clothing:  0.9038665334935924\n",
      "Score for search_and_rescue:  0.7940943479941577\n",
      "Final Score:  0.8902681199102066\n"
     ]
    }
   ],
   "source": [
    "for type_model in result:\n",
    "    print('\\n' + type_model)\n",
    "    classifier, scores = training(result[type_model])\n",
    "    result_classifiers[type_model] = [classifier, scores]"
   ]
  },
  {
   "cell_type": "code",
   "execution_count": null,
   "metadata": {},
   "outputs": [],
   "source": []
  },
  {
   "cell_type": "code",
   "execution_count": null,
   "metadata": {},
   "outputs": [],
   "source": []
  }
 ]
}