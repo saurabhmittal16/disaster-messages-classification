{
 "metadata": {
  "language_info": {
   "codemirror_mode": {
    "name": "ipython",
    "version": 3
   },
   "file_extension": ".py",
   "mimetype": "text/x-python",
   "name": "python",
   "nbconvert_exporter": "python",
   "pygments_lexer": "ipython3",
   "version": "3.8.5-final"
  },
  "orig_nbformat": 2,
  "kernelspec": {
   "name": "python3",
   "display_name": "Python 3"
  }
 },
 "nbformat": 4,
 "nbformat_minor": 2,
 "cells": [
  {
   "cell_type": "code",
   "execution_count": 12,
   "metadata": {},
   "outputs": [],
   "source": [
    "import pickle\n",
    "import pandas as pd\n",
    "import numpy as np\n",
    "from sklearn import metrics\n",
    "\n",
    "model_cols = ['request']\n",
    "# model_cols = ['request', 'food', 'shelter', 'water', 'medical_help', 'clothing', 'search_and_rescue']"
   ]
  },
  {
   "cell_type": "code",
   "execution_count": 13,
   "metadata": {},
   "outputs": [],
   "source": [
    "training = pd.read_csv(\"./preprocessed/training.csv\")\n",
    "test = pd.read_csv(\"./preprocessed/test.csv\")\n",
    "validation = pd.read_csv(\"./preprocessed/validation.csv\")"
   ]
  },
  {
   "cell_type": "code",
   "execution_count": 14,
   "metadata": {},
   "outputs": [],
   "source": [
    "with open('./pickles/model.pickle', 'rb') as file:\n",
    "    data = pickle.load(file)"
   ]
  },
  {
   "cell_type": "code",
   "execution_count": 15,
   "metadata": {},
   "outputs": [],
   "source": [
    "classifiers = data['models']\n",
    "vectorizer = data['vectorizer']"
   ]
  },
  {
   "cell_type": "code",
   "execution_count": 16,
   "metadata": {},
   "outputs": [
    {
     "output_type": "stream",
     "name": "stdout",
     "text": [
      "              precision    recall  f1-score   support\n\n           0       1.00      0.83      0.91     20988\n           1       0.00      0.13      0.00        54\n\n    accuracy                           0.83     21042\n   macro avg       0.50      0.48      0.46     21042\nweighted avg       0.99      0.83      0.90     21042\n\nScore for request:  0.8289136013686912\nFinal score: 0.8289136013686912\n"
     ]
    }
   ],
   "source": [
    "scores = []\n",
    "for col in model_cols:\n",
    "    request_classifier = classifiers[col]\n",
    "    test_x = training['message_stem']\n",
    "    test_y = training[col]\n",
    "\n",
    "    test_input = vectorizer.transform(test_x)\n",
    "    prediction = request_classifier.predict(test_input)\n",
    "    score = metrics.accuracy_score(prediction, test_y)\n",
    "    print(metrics.classification_report(prediction, test_y))\n",
    "    \n",
    "    print(\"Score for {}: \".format(col), score)\n",
    "    scores.append(score)\n",
    "\n",
    "print(\"Final score:\", np.average(scores))"
   ]
  },
  {
   "cell_type": "code",
   "execution_count": 18,
   "metadata": {},
   "outputs": [
    {
     "output_type": "stream",
     "name": "stdout",
     "text": [
      "Score for request:  0.8355365474339036\n",
      "Score for food:  0.8923017107309487\n",
      "Score for shelter:  0.9171850699844479\n",
      "Score for water:  0.937402799377916\n",
      "Score for medical_help:  0.9156298600311042\n",
      "Score for clothing:  0.9805598755832037\n",
      "Score for search_and_rescue:  0.9708398133748056\n",
      "Final score: 0.9213508109309042\n"
     ]
    }
   ],
   "source": [
    "scores = []\n",
    "for col in model_cols:\n",
    "    request_classifier = classifiers[col]\n",
    "    test_x = validation['message_stem']\n",
    "    test_y = validation[col]\n",
    "\n",
    "    test_input = vectorizer.transform(test_x)\n",
    "    prediction = request_classifier.predict(test_input)\n",
    "    score = metrics.accuracy_score(prediction, test_y)\n",
    "    \n",
    "    print(\"Score for {}: \".format(col), score)\n",
    "    scores.append(score)\n",
    "print(\"Final score:\", np.average(scores))"
   ]
  }
 ]
}