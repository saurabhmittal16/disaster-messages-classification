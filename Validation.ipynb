{
 "metadata": {
  "language_info": {
   "codemirror_mode": {
    "name": "ipython",
    "version": 3
   },
   "file_extension": ".py",
   "mimetype": "text/x-python",
   "name": "python",
   "nbconvert_exporter": "python",
   "pygments_lexer": "ipython3",
   "version": "3.8.5-final"
  },
  "orig_nbformat": 2,
  "kernelspec": {
   "name": "python3",
   "display_name": "Python 3"
  }
 },
 "nbformat": 4,
 "nbformat_minor": 2,
 "cells": [
  {
   "cell_type": "code",
   "execution_count": 12,
   "metadata": {},
   "outputs": [],
   "source": [
    "import pickle\n",
    "import pandas as pd\n",
    "import numpy as np\n",
    "from sklearn import metrics\n",
    "\n",
    "model_cols = ['request', 'food', 'shelter', 'water', 'medical_help', 'clothing', 'search_and_rescue']"
   ]
  },
  {
   "cell_type": "code",
   "execution_count": 13,
   "metadata": {},
   "outputs": [],
   "source": [
    "test = pd.read_csv(\"./preprocessed/test.csv\")\n",
    "validation = pd.read_csv(\"./preprocessed/validation.csv\")"
   ]
  },
  {
   "cell_type": "code",
   "execution_count": 14,
   "metadata": {},
   "outputs": [],
   "source": [
    "with open('./pickles/model.pickle', 'rb') as file:\n",
    "    data = pickle.load(file)"
   ]
  },
  {
   "cell_type": "code",
   "execution_count": 15,
   "metadata": {},
   "outputs": [],
   "source": [
    "classifiers = data['models']\n",
    "vectorizer = data['vectorizer']"
   ]
  },
  {
   "cell_type": "code",
   "execution_count": 17,
   "metadata": {},
   "outputs": [
    {
     "output_type": "stream",
     "name": "stdout",
     "text": [
      "Score for request:  0.808599695585997\n",
      "Score for food:  0.8744292237442922\n",
      "Score for shelter:  0.910958904109589\n",
      "Score for water:  0.923896499238965\n",
      "Score for medical_help:  0.9155251141552512\n",
      "Score for clothing:  0.9843987823439878\n",
      "Score for search_and_rescue:  0.9904870624048706\n",
      "Final score: 0.9154707545118503\n"
     ]
    }
   ],
   "source": [
    "scores = []\n",
    "for col in model_cols:\n",
    "    request_classifier = classifiers[col]\n",
    "    test_x = test['message_stem']\n",
    "    test_y = test[col]\n",
    "\n",
    "    test_input = vectorizer.transform(test_x)\n",
    "    prediction = request_classifier.predict(test_input)\n",
    "    score = metrics.accuracy_score(prediction, test_y)\n",
    "    \n",
    "    print(\"Score for {}: \".format(col), score)\n",
    "    scores.append(score)\n",
    "print(\"Final score:\", np.average(scores))"
   ]
  },
  {
   "cell_type": "code",
   "execution_count": 18,
   "metadata": {},
   "outputs": [
    {
     "output_type": "stream",
     "name": "stdout",
     "text": [
      "Score for request:  0.8355365474339036\n",
      "Score for food:  0.8923017107309487\n",
      "Score for shelter:  0.9171850699844479\n",
      "Score for water:  0.937402799377916\n",
      "Score for medical_help:  0.9156298600311042\n",
      "Score for clothing:  0.9805598755832037\n",
      "Score for search_and_rescue:  0.9708398133748056\n",
      "Final score: 0.9213508109309042\n"
     ]
    }
   ],
   "source": [
    "scores = []\n",
    "for col in model_cols:\n",
    "    request_classifier = classifiers[col]\n",
    "    test_x = validation['message_stem']\n",
    "    test_y = validation[col]\n",
    "\n",
    "    test_input = vectorizer.transform(test_x)\n",
    "    prediction = request_classifier.predict(test_input)\n",
    "    score = metrics.accuracy_score(prediction, test_y)\n",
    "    \n",
    "    print(\"Score for {}: \".format(col), score)\n",
    "    scores.append(score)\n",
    "print(\"Final score:\", np.average(scores))"
   ]
  }
 ]
}