{
 "metadata": {
  "language_info": {
   "codemirror_mode": {
    "name": "ipython",
    "version": 3
   },
   "file_extension": ".py",
   "mimetype": "text/x-python",
   "name": "python",
   "nbconvert_exporter": "python",
   "pygments_lexer": "ipython3",
   "version": "3.8.5-final"
  },
  "orig_nbformat": 2,
  "kernelspec": {
   "name": "python3",
   "display_name": "Python 3"
  }
 },
 "nbformat": 4,
 "nbformat_minor": 2,
 "cells": [
  {
   "cell_type": "code",
   "execution_count": 9,
   "metadata": {},
   "outputs": [],
   "source": [
    "import pickle\n",
    "import pandas as pd\n",
    "import numpy as np\n",
    "from sklearn import metrics\n",
    "\n",
    "model_cols = ['food', 'shelter', 'water']"
   ]
  },
  {
   "cell_type": "code",
   "execution_count": 10,
   "metadata": {},
   "outputs": [],
   "source": [
    "test = pd.read_csv(\"./preprocessed/test.csv\")"
   ]
  },
  {
   "cell_type": "code",
   "execution_count": 11,
   "metadata": {},
   "outputs": [],
   "source": [
    "with open(\"./pickles/model.pickle\", 'rb') as file:\n",
    "    data = pickle.load(file)"
   ]
  },
  {
   "cell_type": "code",
   "execution_count": 12,
   "metadata": {},
   "outputs": [
    {
     "output_type": "stream",
     "name": "stdout",
     "text": [
      "{'classifiers': {'request': SVC(C=3.0, kernel='linear'), 'food': SVC(C=3.0, kernel='linear'), 'shelter': SVC(C=3.0, kernel='linear'), 'water': SVC(C=3.0, kernel='linear')}, 'vectorizer': TfidfVectorizer(max_features=100000, ngram_range=(1, 2),\n                strip_accents='unicode',\n                tokenizer=<bound method RegexpTokenizer.tokenize of RegexpTokenizer(pattern='[a-zA-Z0-9]+', gaps=False, discard_empty=True, flags=re.UNICODE|re.MULTILINE|re.DOTALL)>)}\n"
     ]
    }
   ],
   "source": [
    "print(data)"
   ]
  },
  {
   "cell_type": "code",
   "execution_count": 13,
   "metadata": {},
   "outputs": [],
   "source": [
    "vectorizer = data['vectorizer']\n",
    "classifiers = data['classifiers']"
   ]
  },
  {
   "cell_type": "code",
   "execution_count": 14,
   "metadata": {},
   "outputs": [
    {
     "output_type": "stream",
     "name": "stdout",
     "text": [
      "0.8984018264840182\n              precision    recall  f1-score   support\n\n           0       0.96      0.92      0.94      2222\n           1       0.64      0.79      0.70       406\n\n    accuracy                           0.90      2628\n   macro avg       0.80      0.85      0.82      2628\nweighted avg       0.91      0.90      0.90      2628\n\n"
     ]
    }
   ],
   "source": [
    "# Check request accuracy\n",
    "clf = classifiers['request']\n",
    "\n",
    "val_x = test.message_stem\n",
    "val_y = test.request\n",
    "\n",
    "val_input = vectorizer.transform(val_x)\n",
    "prediction = clf.predict(val_input)\n",
    "\n",
    "score = metrics.accuracy_score(prediction, val_y)\n",
    "report = metrics.classification_report(prediction, val_y)\n",
    "\n",
    "print(score)\n",
    "print(report)"
   ]
  },
  {
   "cell_type": "code",
   "execution_count": 15,
   "metadata": {},
   "outputs": [],
   "source": [
    "test_stripped = test[test.request == 1]"
   ]
  },
  {
   "cell_type": "code",
   "execution_count": 16,
   "metadata": {},
   "outputs": [
    {
     "output_type": "stream",
     "name": "stdout",
     "text": [
      "0.9639278557114228\n              precision    recall  f1-score   support\n\n           0       1.00      0.95      0.97       344\n           1       0.90      0.99      0.94       155\n\n    accuracy                           0.96       499\n   macro avg       0.95      0.97      0.96       499\nweighted avg       0.97      0.96      0.96       499\n\n"
     ]
    }
   ],
   "source": [
    "clf = classifiers['food']\n",
    "\n",
    "val_x = test_stripped.message_stem\n",
    "val_y = test_stripped.food\n",
    "\n",
    "val_input = vectorizer.transform(val_x)\n",
    "prediction = clf.predict(val_input)\n",
    "\n",
    "score = metrics.accuracy_score(prediction, val_y)\n",
    "report = metrics.classification_report(prediction, val_y)\n",
    "\n",
    "print(score)\n",
    "print(report)"
   ]
  },
  {
   "cell_type": "code",
   "execution_count": 17,
   "metadata": {},
   "outputs": [
    {
     "output_type": "stream",
     "name": "stdout",
     "text": [
      "0.9298597194388778\n              precision    recall  f1-score   support\n\n           0       0.95      0.95      0.95       376\n           1       0.86      0.85      0.86       123\n\n    accuracy                           0.93       499\n   macro avg       0.91      0.90      0.91       499\nweighted avg       0.93      0.93      0.93       499\n\n"
     ]
    }
   ],
   "source": [
    "clf = classifiers['shelter']\n",
    "\n",
    "val_x = test_stripped.message_stem\n",
    "val_y = test_stripped.shelter\n",
    "\n",
    "val_input = vectorizer.transform(val_x)\n",
    "prediction = clf.predict(val_input)\n",
    "\n",
    "score = metrics.accuracy_score(prediction, val_y)\n",
    "report = metrics.classification_report(prediction, val_y)\n",
    "\n",
    "print(score)\n",
    "print(report)"
   ]
  },
  {
   "cell_type": "code",
   "execution_count": 18,
   "metadata": {},
   "outputs": [
    {
     "output_type": "stream",
     "name": "stdout",
     "text": [
      "0.9779559118236473\n              precision    recall  f1-score   support\n\n           0       0.99      0.98      0.99       408\n           1       0.92      0.97      0.94        91\n\n    accuracy                           0.98       499\n   macro avg       0.95      0.97      0.96       499\nweighted avg       0.98      0.98      0.98       499\n\n"
     ]
    }
   ],
   "source": [
    "clf = classifiers['water']\n",
    "\n",
    "val_x = test_stripped.message_stem\n",
    "val_y = test_stripped.water\n",
    "\n",
    "val_input = vectorizer.transform(val_x)\n",
    "prediction = clf.predict(val_input)\n",
    "\n",
    "score = metrics.accuracy_score(prediction, val_y)\n",
    "report = metrics.classification_report(prediction, val_y)\n",
    "\n",
    "print(score)\n",
    "print(report)"
   ]
  }
 ]
}